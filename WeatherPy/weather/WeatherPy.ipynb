{
 "cells": [
  {
   "cell_type": "markdown",
   "metadata": {},
   "source": [
    "# WeatherPy\n",
    "\n",
    "---\n",
    "\n",
    "## Starter Code to Generate Random Geographic Coordinates and a List of Cities"
   ]
  },
  {
   "cell_type": "code",
   "execution_count": 1,
   "metadata": {
    "scrolled": true
   },
   "outputs": [],
   "source": [
    "# Dependencies and Setup\n",
    "import matplotlib.pyplot as plt\n",
    "import pandas as pd\n",
    "import numpy as np\n",
    "import requests\n",
    "import time\n",
    "from scipy.stats import linregress\n",
    "from datetime import datetime\n",
    "output_data = \"output_data/cities.csv\"\n",
    "# Impor the OpenWeatherMap API key\n",
    "from api_keys import weather_api_key\n",
    "\n",
    "# Import citipy to determine the cities based on latitude and longitude\n",
    "from citipy import citipy"
   ]
  },
  {
   "cell_type": "markdown",
   "metadata": {},
   "source": [
    "### Generate the Cities List by Using the `citipy` Library"
   ]
  },
  {
   "cell_type": "code",
   "execution_count": 11,
   "metadata": {},
   "outputs": [
    {
     "name": "stdout",
     "output_type": "stream",
     "text": [
      "Number of cities in the list: 630\n"
     ]
    }
   ],
   "source": [
    "# Empty list for holding the latitude and longitude combinations\n",
    "lat_lngs = []\n",
    "\n",
    "# Empty list for holding the cities names\n",
    "cities = []\n",
    "\n",
    "# Range of latitudes and longitudes\n",
    "lat_range = (-90, 90)\n",
    "lng_range = (-180, 180)\n",
    "\n",
    "# Create a set of random lat and lng combinations\n",
    "lats = np.random.uniform(lat_range[0], lat_range[1], size=1500)\n",
    "lngs = np.random.uniform(lng_range[0], lng_range[1], size=1500)\n",
    "lat_lngs = zip(lats, lngs)\n",
    "\n",
    "# Identify nearest city for each lat, lng combination\n",
    "for lat_lng in lat_lngs:\n",
    "    city = citipy.nearest_city(lat_lng[0], lat_lng[1]).city_name\n",
    "    \n",
    "    # If the city is unique, then add it to a our cities list\n",
    "    if city not in cities:\n",
    "        cities.append(city)\n",
    "\n",
    "# Print the city count to confirm sufficient count\n",
    "print(f\"Number of cities in the list: {len(cities)}\")"
   ]
  },
  {
   "cell_type": "markdown",
   "metadata": {},
   "source": [
    "---"
   ]
  },
  {
   "cell_type": "markdown",
   "metadata": {},
   "source": [
    "## Requirement 1: Create Plots to Showcase the Relationship Between Weather Variables and Latitude\n",
    "\n",
    "### Use the OpenWeatherMap API to retrieve weather data from the cities list generated in the started code"
   ]
  },
  {
   "cell_type": "code",
   "execution_count": 12,
   "metadata": {},
   "outputs": [
    {
     "name": "stdout",
     "output_type": "stream",
     "text": [
      "Beginning Data Retrieval     \n",
      "-----------------------------\n",
      "Processing Record 1 of Set 1 | ushuaia\n",
      "Processing Record 2 of Set 1 | butaritari\n",
      "Processing Record 3 of Set 1 | yulara\n",
      "Processing Record 4 of Set 1 | saldanha\n",
      "Processing Record 5 of Set 1 | chokurdakh\n",
      "Processing Record 6 of Set 1 | busselton\n",
      "Processing Record 7 of Set 1 | georgetown\n",
      "Processing Record 8 of Set 1 | amderma\n",
      "Processing Record 9 of Set 1 | clyde river\n",
      "Processing Record 10 of Set 1 | puerto ayora\n",
      "Processing Record 11 of Set 1 | najran\n",
      "Processing Record 12 of Set 1 | murmansk\n",
      "Processing Record 13 of Set 1 | port hedland\n",
      "Processing Record 14 of Set 1 | bluff\n",
      "Processing Record 15 of Set 1 | saint-philippe\n",
      "Processing Record 16 of Set 1 | aguimes\n",
      "Processing Record 17 of Set 1 | vaini\n",
      "Processing Record 18 of Set 1 | jiujiang\n",
      "Processing Record 19 of Set 1 | hobart\n",
      "Processing Record 20 of Set 1 | nabire\n",
      "Processing Record 21 of Set 1 | mentok\n",
      "Processing Record 22 of Set 1 | trelew\n",
      "Processing Record 23 of Set 1 | coquimbo\n",
      "Processing Record 24 of Set 1 | nizhneyansk\n",
      "Processing Record 25 of Set 1 | pangody\n",
      "Processing Record 26 of Set 1 | tadine\n",
      "Processing Record 27 of Set 1 | rikitea\n",
      "Processing Record 28 of Set 1 | ilulissat\n",
      "Processing Record 29 of Set 1 | cape town\n",
      "Processing Record 30 of Set 1 | lolua\n",
      "Processing Record 31 of Set 1 | avarua\n",
      "Processing Record 32 of Set 1 | nevers\n",
      "Processing Record 33 of Set 1 | tarko-sale\n",
      "Processing Record 34 of Set 1 | kaitangata\n",
      "Processing Record 35 of Set 1 | yar-sale\n",
      "Processing Record 36 of Set 1 | touros\n",
      "Processing Record 37 of Set 1 | sangar\n",
      "Processing Record 38 of Set 1 | tiksi\n",
      "Processing Record 39 of Set 1 | vostok\n",
      "Processing Record 40 of Set 1 | new norfolk\n",
      "Processing Record 41 of Set 1 | port elizabeth\n",
      "Processing Record 42 of Set 1 | yellowknife\n",
      "Processing Record 43 of Set 1 | qaanaaq\n",
      "Processing Record 44 of Set 1 | hithadhoo\n",
      "Processing Record 45 of Set 1 | meulaboh\n",
      "Processing Record 46 of Set 1 | urumqi\n",
      "Processing Record 47 of Set 1 | husavik\n",
      "Processing Record 48 of Set 1 | narsaq\n",
      "Processing Record 49 of Set 1 | attawapiskat\n",
      "Processing Record 50 of Set 1 | westport\n",
      "Processing Record 0 of Set 2 | olinda\n",
      "Processing Record 1 of Set 2 | punta arenas\n",
      "Processing Record 2 of Set 2 | qandala\n",
      "Processing Record 3 of Set 2 | solnechnyy\n",
      "Processing Record 4 of Set 2 | tuktoyaktuk\n",
      "Processing Record 5 of Set 2 | port lincoln\n",
      "Processing Record 6 of Set 2 | taolanaro\n",
      "Processing Record 7 of Set 2 | belushya guba\n",
      "Processing Record 8 of Set 2 | carnarvon\n",
      "Processing Record 9 of Set 2 | tumannyy\n",
      "Processing Record 10 of Set 2 | waddan\n",
      "Processing Record 11 of Set 2 | mataura\n",
      "Processing Record 12 of Set 2 | klaksvik\n",
      "Processing Record 13 of Set 2 | bredasdorp\n",
      "Processing Record 14 of Set 2 | atuona\n",
      "Processing Record 15 of Set 2 | codrington\n",
      "Processing Record 16 of Set 2 | hermanus\n",
      "Processing Record 17 of Set 2 | sentyabrskiy\n",
      "Processing Record 18 of Set 2 | nanortalik\n",
      "Processing Record 19 of Set 2 | cabo san lucas\n",
      "Processing Record 20 of Set 2 | tuatapere\n",
      "Processing Record 21 of Set 2 | albany\n",
      "Processing Record 22 of Set 2 | hofn\n",
      "Processing Record 23 of Set 2 | lompoc\n",
      "Processing Record 24 of Set 2 | krasnyy luch\n",
      "Processing Record 25 of Set 2 | nikolskoye\n",
      "Processing Record 26 of Set 2 | springbok\n",
      "Processing Record 27 of Set 2 | la rochelle\n",
      "Processing Record 28 of Set 2 | pangnirtung\n",
      "Processing Record 29 of Set 2 | hilo\n",
      "Processing Record 30 of Set 2 | yatou\n",
      "Processing Record 31 of Set 2 | kudahuvadhoo\n",
      "Processing Record 32 of Set 2 | mar del plata\n",
      "Processing Record 33 of Set 2 | east london\n",
      "Processing Record 34 of Set 2 | san nicolas\n",
      "Processing Record 35 of Set 2 | umzimvubu\n",
      "Processing Record 36 of Set 2 | buala\n",
      "Processing Record 37 of Set 2 | samusu\n",
      "Processing Record 38 of Set 2 | uni\n",
      "Processing Record 39 of Set 2 | artyk\n",
      "Processing Record 40 of Set 2 | tautira\n",
      "Processing Record 41 of Set 2 | kenai\n",
      "Processing Record 42 of Set 2 | arraial do cabo\n",
      "Processing Record 43 of Set 2 | staryy nadym\n",
      "Processing Record 44 of Set 2 | terrace bay\n",
      "Processing Record 45 of Set 2 | bushenyi\n",
      "Processing Record 46 of Set 2 | wageningen\n",
      "Processing Record 47 of Set 2 | walvis bay\n",
      "Processing Record 48 of Set 2 | plettenberg bay\n",
      "Processing Record 49 of Set 2 | methven\n",
      "Processing Record 0 of Set 3 | brae\n",
      "Processing Record 1 of Set 3 | lata\n",
      "Processing Record 2 of Set 3 | ponta do sol\n",
      "Processing Record 3 of Set 3 | nebbi\n",
      "Processing Record 4 of Set 3 | barrow\n",
      "Processing Record 5 of Set 3 | marcona\n",
      "Processing Record 6 of Set 3 | abu dhabi\n",
      "Processing Record 7 of Set 3 | jamestown\n",
      "Processing Record 8 of Set 3 | oistins\n",
      "Processing Record 9 of Set 3 | quatre cocos\n",
      "Processing Record 10 of Set 3 | belyy yar\n",
      "Processing Record 11 of Set 3 | thompson\n",
      "Processing Record 12 of Set 3 | peniche\n",
      "Processing Record 13 of Set 3 | richards bay\n",
      "Processing Record 14 of Set 3 | shingu\n",
      "Processing Record 15 of Set 3 | bunia\n",
      "Processing Record 16 of Set 3 | vangaindrano\n",
      "Processing Record 17 of Set 3 | hobyo\n",
      "Processing Record 18 of Set 3 | pevek\n",
      "Processing Record 19 of Set 3 | barentsburg\n",
      "Processing Record 20 of Set 3 | havoysund\n",
      "Processing Record 21 of Set 3 | toliary\n",
      "Processing Record 22 of Set 3 | saint anthony\n",
      "Processing Record 23 of Set 3 | ijaki\n",
      "Processing Record 24 of Set 3 | chiang rai\n",
      "Processing Record 25 of Set 3 | huarmey\n",
      "Processing Record 26 of Set 3 | upernavik\n",
      "Processing Record 27 of Set 3 | coihaique\n",
      "Processing Record 28 of Set 3 | esperance\n",
      "Processing Record 29 of Set 3 | port alfred\n",
      "Processing Record 30 of Set 3 | orbetello\n",
      "Processing Record 31 of Set 3 | baihar\n",
      "Processing Record 32 of Set 3 | turukhansk\n",
      "Processing Record 33 of Set 3 | kota tinggi\n",
      "Processing Record 34 of Set 3 | fare\n",
      "Processing Record 35 of Set 3 | singaraja\n",
      "Processing Record 36 of Set 3 | cherskiy\n",
      "Processing Record 37 of Set 3 | chara\n",
      "Processing Record 38 of Set 3 | jalapa\n",
      "Processing Record 39 of Set 3 | ketchikan\n",
      "Processing Record 40 of Set 3 | alekseyevsk\n",
      "Processing Record 41 of Set 3 | rosetown\n",
      "Processing Record 42 of Set 3 | praya\n",
      "Processing Record 43 of Set 3 | qorveh\n",
      "Processing Record 44 of Set 3 | chivilcoy\n",
      "Processing Record 45 of Set 3 | goundam\n",
      "Processing Record 46 of Set 3 | conde\n",
      "Processing Record 47 of Set 3 | tecoanapa\n",
      "Processing Record 48 of Set 3 | praia\n",
      "Processing Record 49 of Set 3 | nortelandia\n",
      "Processing Record 0 of Set 4 | tual\n",
      "Processing Record 1 of Set 4 | ponta delgada\n",
      "Processing Record 2 of Set 4 | constitucion\n",
      "Processing Record 3 of Set 4 | faanui\n",
      "Processing Record 4 of Set 4 | dikson\n",
      "Processing Record 5 of Set 4 | lydenburg\n",
      "Processing Record 6 of Set 4 | media luna\n",
      "Processing Record 7 of Set 4 | illoqqortoormiut\n",
      "Processing Record 8 of Set 4 | northam\n",
      "Processing Record 9 of Set 4 | dingle\n",
      "Processing Record 10 of Set 4 | minot\n",
      "Processing Record 11 of Set 4 | camocim\n",
      "Processing Record 12 of Set 4 | sorong\n",
      "Processing Record 13 of Set 4 | mahebourg\n",
      "Processing Record 14 of Set 4 | kumanovo\n",
      "Processing Record 15 of Set 4 | fereydun kenar\n",
      "Processing Record 16 of Set 4 | dhidhdhoo\n",
      "Processing Record 17 of Set 4 | ancud\n",
      "Processing Record 18 of Set 4 | banjar\n",
      "Processing Record 19 of Set 4 | yaan\n",
      "Processing Record 20 of Set 4 | nizhniy kuranakh\n",
      "Processing Record 21 of Set 4 | ribeira grande\n",
      "Processing Record 22 of Set 4 | kharagpur\n",
      "Processing Record 23 of Set 4 | bilibino\n",
      "Processing Record 24 of Set 4 | waipawa\n",
      "Processing Record 25 of Set 4 | chuy\n",
      "Processing Record 26 of Set 4 | petropavlovsk-kamchatskiy\n",
      "Processing Record 27 of Set 4 | lakes entrance\n",
      "Processing Record 28 of Set 4 | yakima\n",
      "Processing Record 29 of Set 4 | upington\n",
      "Processing Record 30 of Set 4 | kamenskoye\n",
      "Processing Record 31 of Set 4 | flinders\n",
      "Processing Record 32 of Set 4 | fairbanks\n",
      "Processing Record 33 of Set 4 | sao filipe\n",
      "Processing Record 34 of Set 4 | beipiao\n",
      "Processing Record 35 of Set 4 | mandalgovi\n",
      "Processing Record 36 of Set 4 | syamzha\n",
      "Processing Record 37 of Set 4 | ballina\n",
      "Processing Record 38 of Set 4 | cockburn town\n",
      "Processing Record 39 of Set 4 | san lorenzo\n",
      "Processing Record 40 of Set 4 | isiro\n",
      "Processing Record 41 of Set 4 | ceske velenice\n",
      "Processing Record 42 of Set 4 | palmer\n",
      "Processing Record 43 of Set 4 | amahai\n",
      "Processing Record 44 of Set 4 | castro\n",
      "Processing Record 45 of Set 4 | punta alta\n",
      "Processing Record 46 of Set 4 | kieta\n",
      "Processing Record 47 of Set 4 | yinchuan\n",
      "Processing Record 48 of Set 4 | victoria\n",
      "Processing Record 49 of Set 4 | sistranda\n",
      "Processing Record 0 of Set 5 | kisesa\n",
      "Processing Record 1 of Set 5 | kapaa\n",
      "Processing Record 2 of Set 5 | george\n",
      "Processing Record 3 of Set 5 | ternate\n",
      "Processing Record 4 of Set 5 | kavieng\n",
      "Processing Record 5 of Set 5 | acapulco\n",
      "Processing Record 6 of Set 5 | broken hill\n",
      "Processing Record 7 of Set 5 | sharkan\n",
      "Processing Record 8 of Set 5 | iqaluit\n",
      "Processing Record 9 of Set 5 | chapais\n",
      "Processing Record 10 of Set 5 | oksfjord\n",
      "Processing Record 11 of Set 5 | sukhumi\n",
      "Processing Record 12 of Set 5 | katsuura\n",
      "Processing Record 13 of Set 5 | bijie\n",
      "Processing Record 14 of Set 5 | bucerias\n",
      "Processing Record 15 of Set 5 | dom pedro\n",
      "Processing Record 16 of Set 5 | namibe\n",
      "Processing Record 17 of Set 5 | khatanga\n",
      "Processing Record 18 of Set 5 | manokwari\n",
      "Processing Record 19 of Set 5 | provideniya\n",
      "Processing Record 20 of Set 5 | raudeberg\n",
      "Processing Record 21 of Set 5 | savinka\n",
      "Processing Record 22 of Set 5 | el badari\n",
      "Processing Record 23 of Set 5 | mirante do paranapanema\n",
      "Processing Record 24 of Set 5 | port-cartier\n",
      "Processing Record 25 of Set 5 | milkovo\n",
      "Processing Record 26 of Set 5 | roald\n",
      "Processing Record 27 of Set 5 | poum\n",
      "Processing Record 28 of Set 5 | shache\n",
      "Processing Record 29 of Set 5 | usinsk\n",
      "Processing Record 30 of Set 5 | dalby\n",
      "Processing Record 31 of Set 5 | antanifotsy\n",
      "Processing Record 32 of Set 5 | bom jesus\n",
      "Processing Record 33 of Set 5 | santa isabel do rio negro\n",
      "Processing Record 34 of Set 5 | dunedin\n",
      "Processing Record 35 of Set 5 | lucapa\n",
      "Processing Record 36 of Set 5 | longyearbyen\n",
      "Processing Record 37 of Set 5 | ajaigarh\n",
      "Processing Record 38 of Set 5 | tsihombe\n",
      "Processing Record 39 of Set 5 | bonthe\n",
      "Processing Record 40 of Set 5 | ankazobe\n",
      "Processing Record 41 of Set 5 | yangambi\n",
      "Processing Record 42 of Set 5 | vaitupu\n",
      "Processing Record 43 of Set 5 | tanout\n",
      "Processing Record 44 of Set 5 | riberalta\n",
      "Processing Record 45 of Set 5 | las vegas\n",
      "Processing Record 46 of Set 5 | katherine\n",
      "Processing Record 47 of Set 5 | naliya\n",
      "Processing Record 48 of Set 5 | lewistown\n",
      "Processing Record 49 of Set 5 | narimanov\n",
      "Processing Record 0 of Set 6 | opuwo\n",
      "Processing Record 1 of Set 6 | lebu\n",
      "Processing Record 2 of Set 6 | hualmay\n",
      "Processing Record 3 of Set 6 | lorengau\n",
      "Processing Record 4 of Set 6 | gushikawa\n",
      "Processing Record 5 of Set 6 | luderitz\n",
      "Processing Record 6 of Set 6 | prado\n",
      "Processing Record 7 of Set 6 | mount pleasant\n",
      "Processing Record 8 of Set 6 | olafsvik\n",
      "Processing Record 9 of Set 6 | mafeteng\n",
      "Processing Record 10 of Set 6 | hasaki\n",
      "Processing Record 11 of Set 6 | dakoro\n",
      "Processing Record 12 of Set 6 | anuchino\n",
      "Processing Record 13 of Set 6 | marang\n",
      "Processing Record 14 of Set 6 | praia da vitoria\n",
      "Processing Record 15 of Set 6 | rossosh\n",
      "Processing Record 16 of Set 6 | teluk nibung\n",
      "Processing Record 17 of Set 6 | mount gambier\n",
      "Processing Record 18 of Set 6 | tondano\n",
      "Processing Record 19 of Set 6 | padang\n",
      "Processing Record 20 of Set 6 | kruisfontein\n",
      "Processing Record 21 of Set 6 | muli\n",
      "Processing Record 22 of Set 6 | sibu\n",
      "Processing Record 23 of Set 6 | backi petrovac\n",
      "Processing Record 24 of Set 6 | nova odesa\n",
      "Processing Record 25 of Set 6 | mys shmidta\n",
      "Processing Record 26 of Set 6 | yining\n",
      "Processing Record 27 of Set 6 | lavrentiya\n",
      "Processing Record 28 of Set 6 | sovetskiy\n",
      "Processing Record 29 of Set 6 | le port\n",
      "Processing Record 30 of Set 6 | kaseda\n",
      "Processing Record 31 of Set 6 | airai\n",
      "Processing Record 32 of Set 6 | ozernovskiy\n",
      "Processing Record 33 of Set 6 | kathmandu\n",
      "Processing Record 34 of Set 6 | kuche\n",
      "Processing Record 35 of Set 6 | viligili\n",
      "Processing Record 36 of Set 6 | sindor\n",
      "Processing Record 37 of Set 6 | saint-joseph\n",
      "Processing Record 38 of Set 6 | leningradskiy\n",
      "Processing Record 39 of Set 6 | diu\n",
      "Processing Record 40 of Set 6 | ingham\n",
      "Processing Record 41 of Set 6 | asau\n",
      "Processing Record 42 of Set 6 | cilegon\n",
      "Processing Record 43 of Set 6 | bayangol\n",
      "Processing Record 44 of Set 6 | tchamba\n",
      "Processing Record 45 of Set 6 | lamesa\n",
      "Processing Record 46 of Set 6 | bilma\n",
      "Processing Record 47 of Set 6 | chitungwiza\n",
      "Processing Record 48 of Set 6 | tabou\n",
      "Processing Record 49 of Set 6 | saskylakh\n",
      "Processing Record 0 of Set 7 | torbay\n",
      "Processing Record 1 of Set 7 | atasu\n",
      "Processing Record 2 of Set 7 | dalvik\n",
      "Processing Record 3 of Set 7 | bargal\n",
      "Processing Record 4 of Set 7 | alice springs\n",
      "Processing Record 5 of Set 7 | kodiak\n",
      "Processing Record 6 of Set 7 | sobolevo\n",
      "Processing Record 7 of Set 7 | hue\n",
      "Processing Record 8 of Set 7 | myanaung\n",
      "Processing Record 9 of Set 7 | borogontsy\n",
      "Processing Record 10 of Set 7 | mangrol\n",
      "Processing Record 11 of Set 7 | sitka\n",
      "Processing Record 12 of Set 7 | lodwar\n",
      "Processing Record 13 of Set 7 | khani\n",
      "Processing Record 14 of Set 7 | mercedes\n",
      "Processing Record 15 of Set 7 | pilar\n",
      "Processing Record 16 of Set 7 | batagay-alyta\n",
      "Processing Record 17 of Set 7 | umm kaddadah\n",
      "Processing Record 18 of Set 7 | grindavik\n",
      "Processing Record 19 of Set 7 | eyl\n",
      "Processing Record 20 of Set 7 | chernolesskoye\n",
      "Processing Record 21 of Set 7 | nemuro\n",
      "Processing Record 22 of Set 7 | vestmannaeyjar\n",
      "Processing Record 23 of Set 7 | kirovo-chepetsk\n",
      "Processing Record 24 of Set 7 | adrar\n",
      "Processing Record 25 of Set 7 | sao joao da barra\n",
      "Processing Record 26 of Set 7 | mecca\n",
      "Processing Record 27 of Set 7 | siguiri\n",
      "Processing Record 28 of Set 7 | kendari\n",
      "Processing Record 29 of Set 7 | afgoye\n",
      "Processing Record 30 of Set 7 | severo-kurilsk\n",
      "Processing Record 31 of Set 7 | ikwiriri\n",
      "Processing Record 32 of Set 7 | jacareacanga\n",
      "Processing Record 33 of Set 7 | jaisalmer\n",
      "Processing Record 34 of Set 7 | guerrero negro\n",
      "Processing Record 35 of Set 7 | yuzhno-kurilsk\n",
      "Processing Record 36 of Set 7 | akureyri\n",
      "Processing Record 37 of Set 7 | pontes e lacerda\n",
      "Processing Record 38 of Set 7 | byron bay\n",
      "Processing Record 39 of Set 7 | baker city\n",
      "Processing Record 40 of Set 7 | tasiilaq\n",
      "Processing Record 41 of Set 7 | pisco\n",
      "Processing Record 42 of Set 7 | mao\n",
      "Processing Record 43 of Set 7 | athabasca\n",
      "Processing Record 44 of Set 7 | barranca\n",
      "Processing Record 45 of Set 7 | souillac\n",
      "Processing Record 46 of Set 7 | bull savanna\n",
      "Processing Record 47 of Set 7 | puerto quijarro\n",
      "Processing Record 48 of Set 7 | del rio\n",
      "Processing Record 49 of Set 7 | bandarbeyla\n",
      "Processing Record 0 of Set 8 | senador jose porfirio\n",
      "Processing Record 1 of Set 8 | lere\n",
      "Processing Record 2 of Set 8 | san pedro\n",
      "Processing Record 3 of Set 8 | taoudenni\n",
      "Processing Record 4 of Set 8 | abalak\n",
      "Processing Record 5 of Set 8 | fortuna\n",
      "Processing Record 6 of Set 8 | faya\n",
      "Processing Record 7 of Set 8 | petukhovo\n",
      "Processing Record 8 of Set 8 | powassan\n",
      "Processing Record 9 of Set 8 | mainaguri\n",
      "Processing Record 10 of Set 8 | kulevcha\n",
      "Processing Record 11 of Set 8 | san jose\n",
      "Processing Record 12 of Set 8 | arak\n",
      "Processing Record 13 of Set 8 | norman wells\n",
      "Processing Record 14 of Set 8 | nouadhibou\n",
      "Processing Record 15 of Set 8 | zonguldak\n",
      "Processing Record 16 of Set 8 | merrydale\n",
      "Processing Record 17 of Set 8 | lasa\n",
      "Processing Record 18 of Set 8 | ugoofaaru\n",
      "Processing Record 19 of Set 8 | mahibadhoo\n",
      "Processing Record 20 of Set 8 | hirata\n",
      "Processing Record 21 of Set 8 | noumea\n",
      "Processing Record 22 of Set 8 | xam nua\n",
      "Processing Record 23 of Set 8 | spornoye\n",
      "Processing Record 24 of Set 8 | volga\n",
      "Processing Record 25 of Set 8 | vidalia\n",
      "Processing Record 26 of Set 8 | luino\n",
      "Processing Record 27 of Set 8 | san patricio\n",
      "Processing Record 28 of Set 8 | boguchany\n",
      "Processing Record 29 of Set 8 | preobrazheniye\n",
      "Processing Record 30 of Set 8 | port arthur\n",
      "Processing Record 31 of Set 8 | colchester\n",
      "Processing Record 32 of Set 8 | tamworth\n",
      "Processing Record 33 of Set 8 | miranda\n",
      "Processing Record 34 of Set 8 | bethel\n",
      "Processing Record 35 of Set 8 | warqla\n",
      "Processing Record 36 of Set 8 | cap-aux-meules\n",
      "Processing Record 37 of Set 8 | yeppoon\n",
      "Processing Record 38 of Set 8 | karratha\n",
      "Processing Record 39 of Set 8 | edmundston\n",
      "Processing Record 40 of Set 8 | kirakira\n",
      "Processing Record 41 of Set 8 | abu samrah\n",
      "Processing Record 42 of Set 8 | soe\n",
      "Processing Record 43 of Set 8 | paita\n",
      "Processing Record 44 of Set 8 | havelock\n",
      "Processing Record 45 of Set 8 | boende\n",
      "Processing Record 46 of Set 8 | inongo\n",
      "Processing Record 47 of Set 8 | sharjah\n",
      "Processing Record 48 of Set 8 | lagos\n",
      "Processing Record 49 of Set 8 | phek\n",
      "Processing Record 0 of Set 9 | saint-augustin\n",
      "Processing Record 1 of Set 9 | dubrovnik\n",
      "Processing Record 2 of Set 9 | chokwe\n",
      "Processing Record 3 of Set 9 | ferkessedougou\n",
      "Processing Record 4 of Set 9 | caruray\n",
      "Processing Record 5 of Set 9 | ruatoria\n",
      "Processing Record 6 of Set 9 | ahuacatlan\n",
      "Processing Record 7 of Set 9 | vilyuysk\n",
      "Processing Record 8 of Set 9 | tuzha\n",
      "Processing Record 9 of Set 9 | porto novo\n",
      "Processing Record 10 of Set 9 | meyungs\n",
      "Processing Record 11 of Set 9 | isangel\n",
      "Processing Record 12 of Set 9 | cabedelo\n",
      "Processing Record 13 of Set 9 | qaqortoq\n",
      "Processing Record 14 of Set 9 | half moon bay\n",
      "Processing Record 15 of Set 9 | cudahy\n",
      "Processing Record 16 of Set 9 | nizhniy odes\n",
      "Processing Record 17 of Set 9 | geresk\n",
      "Processing Record 18 of Set 9 | mujiayingzi\n",
      "Processing Record 19 of Set 9 | nalut\n",
      "Processing Record 20 of Set 9 | bibbiena\n",
      "Processing Record 21 of Set 9 | komsomolskiy\n",
      "Processing Record 22 of Set 9 | batsfjord\n",
      "Processing Record 23 of Set 9 | adeje\n",
      "Processing Record 24 of Set 9 | verkhnetulomskiy\n",
      "Processing Record 25 of Set 9 | cayenne\n",
      "Processing Record 26 of Set 9 | tilichiki\n",
      "Processing Record 27 of Set 9 | jasdan\n",
      "Processing Record 28 of Set 9 | seoul\n",
      "Processing Record 29 of Set 9 | emba\n",
      "Processing Record 30 of Set 9 | inhambane\n",
      "Processing Record 31 of Set 9 | laguna\n",
      "Processing Record 32 of Set 9 | helena\n",
      "Processing Record 33 of Set 9 | peto\n",
      "Processing Record 34 of Set 9 | sogdiondon\n",
      "Processing Record 35 of Set 9 | ahipara\n",
      "Processing Record 36 of Set 9 | san andres\n",
      "Processing Record 37 of Set 9 | avera\n",
      "Processing Record 38 of Set 9 | lyngseidet\n",
      "Processing Record 39 of Set 9 | deputatskiy\n",
      "Processing Record 40 of Set 9 | korla\n",
      "Processing Record 41 of Set 9 | edgewater\n",
      "Processing Record 42 of Set 9 | kaihua\n",
      "Processing Record 43 of Set 9 | bengkulu\n",
      "Processing Record 44 of Set 9 | hvolsvollur\n",
      "Processing Record 45 of Set 9 | yerakion\n",
      "Processing Record 46 of Set 9 | haines junction\n",
      "Processing Record 47 of Set 9 | tumut\n",
      "Processing Record 48 of Set 9 | ust-maya\n",
      "Processing Record 49 of Set 9 | aras\n",
      "Processing Record 0 of Set 10 | bay city\n",
      "Processing Record 1 of Set 10 | storm lake\n",
      "Processing Record 2 of Set 10 | sorland\n",
      "Processing Record 3 of Set 10 | saint-georges\n",
      "Processing Record 4 of Set 10 | great yarmouth\n",
      "Processing Record 5 of Set 10 | mnogovershinnyy\n",
      "Processing Record 6 of Set 10 | myaundzha\n",
      "Processing Record 7 of Set 10 | sambava\n",
      "Processing Record 8 of Set 10 | pembroke\n",
      "Processing Record 9 of Set 10 | ust-nera\n",
      "Processing Record 10 of Set 10 | smirnykh\n",
      "Processing Record 11 of Set 10 | atar\n",
      "Processing Record 12 of Set 10 | sola\n",
      "Processing Record 13 of Set 10 | portland\n",
      "Processing Record 14 of Set 10 | vila velha\n",
      "Processing Record 15 of Set 10 | dehloran\n",
      "Processing Record 16 of Set 10 | caucasia\n",
      "Processing Record 17 of Set 10 | kavaratti\n",
      "Processing Record 18 of Set 10 | san policarpo\n",
      "Processing Record 19 of Set 10 | wasilla\n",
      "Processing Record 20 of Set 10 | sassandra\n",
      "Processing Record 21 of Set 10 | port-gentil\n",
      "Processing Record 22 of Set 10 | viedma\n",
      "Processing Record 23 of Set 10 | cairns\n",
      "Processing Record 24 of Set 10 | biltine\n",
      "Processing Record 25 of Set 10 | roebourne\n",
      "Processing Record 26 of Set 10 | matara\n",
      "Processing Record 27 of Set 10 | vanimo\n",
      "Processing Record 28 of Set 10 | moerai\n",
      "Processing Record 29 of Set 10 | rungata\n",
      "Processing Record 30 of Set 10 | cidreira\n",
      "Processing Record 31 of Set 10 | redmond\n",
      "Processing Record 32 of Set 10 | zyryanka\n",
      "Processing Record 33 of Set 10 | talnakh\n",
      "Processing Record 34 of Set 10 | warrnambool\n",
      "Processing Record 35 of Set 10 | beruni\n",
      "Processing Record 36 of Set 10 | puerto del rosario\n",
      "Processing Record 37 of Set 10 | catuday\n",
      "Processing Record 38 of Set 10 | hervey bay\n",
      "Processing Record 39 of Set 10 | hovd\n",
      "Processing Record 40 of Set 10 | louisbourg\n",
      "Processing Record 41 of Set 10 | egvekinot\n",
      "Processing Record 42 of Set 10 | vila franca do campo\n",
      "Processing Record 43 of Set 10 | rorvik\n",
      "Processing Record 44 of Set 10 | hobbs\n",
      "Processing Record 45 of Set 10 | tigil\n",
      "Processing Record 46 of Set 10 | barbar\n",
      "Processing Record 47 of Set 10 | shinuhayr\n",
      "Processing Record 48 of Set 10 | camacha\n",
      "Processing Record 49 of Set 10 | krasnoshchekovo\n",
      "Processing Record 0 of Set 11 | vilcun\n",
      "Processing Record 1 of Set 11 | takaungu\n",
      "Processing Record 2 of Set 11 | kokorevka\n",
      "Processing Record 3 of Set 11 | inuvik\n",
      "Processing Record 4 of Set 11 | we\n",
      "Processing Record 5 of Set 11 | sofiysk\n",
      "Processing Record 6 of Set 11 | san cristobal\n",
      "Processing Record 7 of Set 11 | mayo\n",
      "Processing Record 8 of Set 11 | le pradet\n",
      "Processing Record 9 of Set 11 | hirara\n",
      "Processing Record 10 of Set 11 | rawson\n",
      "Processing Record 11 of Set 11 | sur\n",
      "Processing Record 12 of Set 11 | portsmouth\n",
      "Processing Record 13 of Set 11 | iglino\n",
      "Processing Record 14 of Set 11 | svetlyy\n",
      "Processing Record 15 of Set 11 | gazimurskiy zavod\n",
      "Processing Record 16 of Set 11 | scarborough\n",
      "Processing Record 17 of Set 11 | chistogorskiy\n",
      "Processing Record 18 of Set 11 | maniitsoq\n",
      "Processing Record 19 of Set 11 | trabzon\n",
      "Processing Record 20 of Set 11 | srednekolymsk\n",
      "Processing Record 21 of Set 11 | puerto escondido\n",
      "Processing Record 22 of Set 11 | yerbogachen\n",
      "Processing Record 23 of Set 11 | gharghoda\n",
      "Processing Record 24 of Set 11 | comodoro rivadavia\n",
      "Processing Record 25 of Set 11 | san antonio\n",
      "Processing Record 26 of Set 11 | ormara\n",
      "Processing Record 27 of Set 11 | houma\n",
      "Processing Record 28 of Set 11 | morant bay\n",
      "Processing Record 29 of Set 11 | san quintin\n",
      "Processing Record 30 of Set 11 | alofi\n",
      "Processing Record 31 of Set 11 | manaure\n",
      "Processing Record 32 of Set 11 | samarai\n",
      "Processing Record 33 of Set 11 | castrillon\n",
      "Processing Record 34 of Set 11 | laje\n",
      "Processing Record 35 of Set 11 | lagoa\n",
      "Processing Record 36 of Set 11 | taveta\n",
      "Processing Record 37 of Set 11 | ambatofinandrahana\n",
      "Processing Record 38 of Set 11 | geraldton\n",
      "Processing Record 39 of Set 11 | aklavik\n",
      "Processing Record 40 of Set 11 | umm lajj\n",
      "Processing Record 41 of Set 11 | mount isa\n",
      "Processing Record 42 of Set 11 | bardiyah\n",
      "Processing Record 43 of Set 11 | salinopolis\n",
      "Processing Record 44 of Set 11 | alamosa\n",
      "Processing Record 45 of Set 11 | taldan\n",
      "Processing Record 46 of Set 11 | turan\n",
      "Processing Record 47 of Set 11 | ituni\n",
      "Processing Record 48 of Set 11 | gondanglegi\n",
      "Processing Record 49 of Set 11 | adiake\n",
      "Processing Record 0 of Set 12 | ippy\n",
      "Processing Record 1 of Set 12 | burica\n",
      "Processing Record 2 of Set 12 | bathsheba\n",
      "Processing Record 3 of Set 12 | kimbe\n",
      "Processing Record 4 of Set 12 | aden\n",
      "Processing Record 5 of Set 12 | ucluelet\n",
      "Processing Record 6 of Set 12 | tarakan\n",
      "Processing Record 7 of Set 12 | sao felix do xingu\n",
      "Processing Record 8 of Set 12 | ngaoundere\n",
      "Processing Record 9 of Set 12 | nantucket\n",
      "Processing Record 10 of Set 12 | khonuu\n",
      "Processing Record 11 of Set 12 | louis trichardt\n",
      "Processing Record 12 of Set 12 | lalmohan\n",
      "Processing Record 13 of Set 12 | dukat\n",
      "Processing Record 14 of Set 12 | kazalinsk\n",
      "Processing Record 15 of Set 12 | bur gabo\n",
      "Processing Record 16 of Set 12 | general jose eduvigis diaz\n",
      "Processing Record 17 of Set 12 | saint-pierre\n",
      "Processing Record 18 of Set 12 | ilovlya\n",
      "Processing Record 19 of Set 12 | galich\n",
      "Processing Record 20 of Set 12 | hambantota\n",
      "Processing Record 21 of Set 12 | smithers\n",
      "Processing Record 22 of Set 12 | chanika\n",
      "Processing Record 23 of Set 12 | kijang\n",
      "Processing Record 24 of Set 12 | lakatoro\n",
      "Processing Record 25 of Set 12 | barawe\n",
      "Processing Record 26 of Set 12 | marion\n",
      "Processing Record 27 of Set 12 | palabuhanratu\n",
      "Processing Record 28 of Set 12 | kharitonovo\n",
      "Processing Record 29 of Set 12 | zhezkazgan\n",
      "Processing Record 30 of Set 12 | namatanai\n",
      "Processing Record 31 of Set 12 | satun\n",
      "Processing Record 32 of Set 12 | port keats\n",
      "Processing Record 33 of Set 12 | gizo\n",
      "Processing Record 34 of Set 12 | bosaso\n",
      "Processing Record 35 of Set 12 | elliot lake\n",
      "Processing Record 36 of Set 12 | janakpur road\n",
      "Processing Record 37 of Set 12 | den helder\n",
      "Processing Record 38 of Set 12 | honiara\n",
      "Processing Record 39 of Set 12 | tehachapi\n",
      "Processing Record 40 of Set 12 | masjed-e soleyman\n",
      "Processing Record 41 of Set 12 | coahuayana\n",
      "Processing Record 42 of Set 12 | mountain home\n",
      "Processing Record 43 of Set 12 | hamilton\n",
      "Processing Record 44 of Set 12 | brigantine\n",
      "Processing Record 45 of Set 12 | bennington\n",
      "Processing Record 46 of Set 12 | jiroft\n",
      "Processing Record 47 of Set 12 | villa maria\n",
      "Processing Record 48 of Set 12 | mackay\n",
      "Processing Record 49 of Set 12 | sao gabriel da cachoeira\n",
      "Processing Record 0 of Set 13 | vardo\n",
      "Processing Record 1 of Set 13 | dvinskoy\n",
      "Processing Record 2 of Set 13 | nara\n",
      "Processing Record 3 of Set 13 | millinocket\n",
      "Processing Record 4 of Set 13 | soeng sang\n",
      "Processing Record 5 of Set 13 | fairfield\n",
      "Processing Record 6 of Set 13 | sosnovo\n",
      "Processing Record 7 of Set 13 | kantunilkin\n",
      "Processing Record 8 of Set 13 | filadelfia\n",
      "Processing Record 9 of Set 13 | kamaishi\n",
      "Processing Record 10 of Set 13 | muros\n",
      "Processing Record 11 of Set 13 | kahului\n",
      "Processing Record 12 of Set 13 | college\n",
      "Processing Record 13 of Set 13 | panjab\n",
      "Processing Record 14 of Set 13 | nome\n",
      "Processing Record 15 of Set 13 | pyay\n",
      "Processing Record 16 of Set 13 | tartus\n",
      "Processing Record 17 of Set 13 | port blair\n",
      "Processing Record 18 of Set 13 | yarkovo\n",
      "Processing Record 19 of Set 13 | amazar\n",
      "Processing Record 20 of Set 13 | krasnoarmeysk\n",
      "Processing Record 21 of Set 13 | nenjiang\n",
      "Processing Record 22 of Set 13 | caravelas\n",
      "Processing Record 23 of Set 13 | dudinka\n",
      "Processing Record 24 of Set 13 | mazagao\n",
      "Processing Record 25 of Set 13 | prince george\n",
      "Processing Record 26 of Set 13 | la roche-sur-yon\n",
      "Processing Record 27 of Set 13 | raigarh\n",
      "Processing Record 28 of Set 13 | nyurba\n",
      "Processing Record 29 of Set 13 | novotroitskaya\n",
      "-----------------------------\n",
      "Data Retrieval Complete      \n",
      "-----------------------------\n"
     ]
    }
   ],
   "source": [
    "\n",
    "url = \"https://api.openweathermap.org/data/2.5/weather?q=\"\n",
    "unit = \"imperial\"\n",
    "# Define an empty list to fetch the weather data for each city\n",
    "city_data = []\n",
    "\n",
    "# Print to logger\n",
    "print(\"Beginning Data Retrieval     \")\n",
    "print(\"-----------------------------\")\n",
    "\n",
    "# Create counters\n",
    "record_count = 1\n",
    "set_count = 1\n",
    "\n",
    "# Loop through all the cities in our list to fetch weather data\n",
    "for i, city in enumerate(cities):\n",
    "        \n",
    "    # Group cities in sets of 50 for logging purposes\n",
    "    if (i % 50 == 0 and i >= 50):\n",
    "        set_count += 1\n",
    "        record_count = 0\n",
    "\n",
    "    # Create endpoint URL with each city\n",
    "    city_url = url + \"&q=\" + city.replace(\" \",\"+\")\n",
    "    \n",
    "    # Log the url, record, and set numbers\n",
    "    print(\"Processing Record %s of Set %s | %s\" % (record_count, set_count, city))\n",
    "\n",
    "    # Add 1 to the record count\n",
    "    record_count += 1\n",
    "\n",
    "    # Run an API request for each of the cities\n",
    "    try:\n",
    "        # Parse the JSON and retrieve data\n",
    "        city_weather = []\n",
    "\n",
    "        # Parse out latitude, longitude, max temp, humidity, cloudiness, wind speed, country, and date\n",
    "        city_lat = []\n",
    "        city_lng =[]\n",
    "        city_max_temp = []\n",
    "        city_humidity = []\n",
    "        city_clouds = []\n",
    "        city_wind = []\n",
    "        city_country = []\n",
    "        city_date = []\n",
    "        found_cities=[]\n",
    "\n",
    "        # Append the City information into city_data list\n",
    "        city_data.append({\"City\": city, \n",
    "                          \"Lat\": city_lat, \n",
    "                          \"Lng\": city_lng, \n",
    "                          \"Max Temp\": city_max_temp,\n",
    "                          \"Humidity\": city_humidity,\n",
    "                          \"Cloudiness\": city_clouds,\n",
    "                          \"Wind Speed\": city_wind,\n",
    "                          \"Country\": city_country,\n",
    "                          \"Date\": city_date})\n",
    "\n",
    "    # If an error is experienced, skip the city\n",
    "    except:\n",
    "        print(\"City not found. Skipping...\")\n",
    "        pass\n",
    "              \n",
    "# Indicate that Data Loading is complete \n",
    "print(\"-----------------------------\")\n",
    "print(\"Data Retrieval Complete      \")\n",
    "print(\"-----------------------------\")"
   ]
  },
  {
   "cell_type": "code",
   "execution_count": 13,
   "metadata": {},
   "outputs": [
    {
     "data": {
      "text/html": [
       "<div>\n",
       "<style scoped>\n",
       "    .dataframe tbody tr th:only-of-type {\n",
       "        vertical-align: middle;\n",
       "    }\n",
       "\n",
       "    .dataframe tbody tr th {\n",
       "        vertical-align: top;\n",
       "    }\n",
       "\n",
       "    .dataframe thead th {\n",
       "        text-align: right;\n",
       "    }\n",
       "</style>\n",
       "<table border=\"1\" class=\"dataframe\">\n",
       "  <thead>\n",
       "    <tr style=\"text-align: right;\">\n",
       "      <th></th>\n",
       "      <th>City</th>\n",
       "      <th>Country</th>\n",
       "      <th>Temperature</th>\n",
       "      <th>Humidity</th>\n",
       "      <th>Cloudiness</th>\n",
       "      <th>Windspeed</th>\n",
       "      <th>Latitude</th>\n",
       "      <th>Longitude</th>\n",
       "      <th>Date</th>\n",
       "    </tr>\n",
       "  </thead>\n",
       "  <tbody>\n",
       "  </tbody>\n",
       "</table>\n",
       "</div>"
      ],
      "text/plain": [
       "Empty DataFrame\n",
       "Columns: [City, Country, Temperature, Humidity, Cloudiness, Windspeed, Latitude, Longitude, Date]\n",
       "Index: []"
      ]
     },
     "execution_count": 13,
     "metadata": {},
     "output_type": "execute_result"
    }
   ],
   "source": [
    "Weather_DF = pd.DataFrame({\"City\": found_cities,\n",
    "                           \"Country\": city_country,\n",
    "                           \"Temperature\": city_max_temp,\n",
    "                           \"Humidity\": city_humidity,\n",
    "                           \"Cloudiness\": city_clouds,\n",
    "                           \"Windspeed\": city_wind,\n",
    "                           \"Latitude\": city_lat,\n",
    "                           \"Longitude\": city_lng,\n",
    "                           \"Date\": city_date\n",
    "                          })\n",
    "Weather_DF"
   ]
  },
  {
   "cell_type": "code",
   "execution_count": 14,
   "metadata": {},
   "outputs": [
    {
     "data": {
      "text/html": [
       "<div>\n",
       "<style scoped>\n",
       "    .dataframe tbody tr th:only-of-type {\n",
       "        vertical-align: middle;\n",
       "    }\n",
       "\n",
       "    .dataframe tbody tr th {\n",
       "        vertical-align: top;\n",
       "    }\n",
       "\n",
       "    .dataframe thead th {\n",
       "        text-align: right;\n",
       "    }\n",
       "</style>\n",
       "<table border=\"1\" class=\"dataframe\">\n",
       "  <thead>\n",
       "    <tr style=\"text-align: right;\">\n",
       "      <th></th>\n",
       "      <th>City</th>\n",
       "      <th>Country</th>\n",
       "      <th>Temperature</th>\n",
       "      <th>Humidity</th>\n",
       "      <th>Cloudiness</th>\n",
       "      <th>Windspeed</th>\n",
       "      <th>Latitude</th>\n",
       "      <th>Longitude</th>\n",
       "      <th>Date</th>\n",
       "    </tr>\n",
       "  </thead>\n",
       "  <tbody>\n",
       "  </tbody>\n",
       "</table>\n",
       "</div>"
      ],
      "text/plain": [
       "Empty DataFrame\n",
       "Columns: [City, Country, Temperature, Humidity, Cloudiness, Windspeed, Latitude, Longitude, Date]\n",
       "Index: []"
      ]
     },
     "execution_count": 14,
     "metadata": {},
     "output_type": "execute_result"
    }
   ],
   "source": [
    "# Make a new DataFrame equal to the city data to drop all humidity outliers by index.\n",
    "# Passing \"inplace=False\" will make a copy of the city_data DataFrame, which we call \"clean_city_data\".\n",
    "clean_city_dataframe = Weather_DF[(Weather_DF['Humidity'] >100)]\n",
    "clean_city_dataframe"
   ]
  },
  {
   "cell_type": "code",
   "execution_count": 15,
   "metadata": {},
   "outputs": [
    {
     "data": {
      "text/html": [
       "<div>\n",
       "<style scoped>\n",
       "    .dataframe tbody tr th:only-of-type {\n",
       "        vertical-align: middle;\n",
       "    }\n",
       "\n",
       "    .dataframe tbody tr th {\n",
       "        vertical-align: top;\n",
       "    }\n",
       "\n",
       "    .dataframe thead th {\n",
       "        text-align: right;\n",
       "    }\n",
       "</style>\n",
       "<table border=\"1\" class=\"dataframe\">\n",
       "  <thead>\n",
       "    <tr style=\"text-align: right;\">\n",
       "      <th></th>\n",
       "      <th>City</th>\n",
       "      <th>Country</th>\n",
       "      <th>Latitude</th>\n",
       "      <th>Temperature</th>\n",
       "      <th>Humidity</th>\n",
       "      <th>Cloudiness</th>\n",
       "      <th>Windspeed</th>\n",
       "      <th>Date</th>\n",
       "    </tr>\n",
       "  </thead>\n",
       "  <tbody>\n",
       "    <tr>\n",
       "      <th>0</th>\n",
       "      <td>severo-kurilsk</td>\n",
       "      <td>RU</td>\n",
       "      <td>50.6789</td>\n",
       "      <td>46.63</td>\n",
       "      <td>77</td>\n",
       "      <td>59</td>\n",
       "      <td>14.63</td>\n",
       "      <td>1635209454</td>\n",
       "    </tr>\n",
       "    <tr>\n",
       "      <th>1</th>\n",
       "      <td>atuona</td>\n",
       "      <td>PF</td>\n",
       "      <td>-9.8000</td>\n",
       "      <td>78.10</td>\n",
       "      <td>72</td>\n",
       "      <td>25</td>\n",
       "      <td>17.11</td>\n",
       "      <td>1635209734</td>\n",
       "    </tr>\n",
       "    <tr>\n",
       "      <th>2</th>\n",
       "      <td>quatre cocos</td>\n",
       "      <td>MU</td>\n",
       "      <td>-20.2078</td>\n",
       "      <td>73.51</td>\n",
       "      <td>78</td>\n",
       "      <td>36</td>\n",
       "      <td>14.81</td>\n",
       "      <td>1635209755</td>\n",
       "    </tr>\n",
       "    <tr>\n",
       "      <th>3</th>\n",
       "      <td>cayenne</td>\n",
       "      <td>GF</td>\n",
       "      <td>4.9333</td>\n",
       "      <td>78.10</td>\n",
       "      <td>89</td>\n",
       "      <td>75</td>\n",
       "      <td>3.00</td>\n",
       "      <td>1635209765</td>\n",
       "    </tr>\n",
       "    <tr>\n",
       "      <th>4</th>\n",
       "      <td>maneadero</td>\n",
       "      <td>MX</td>\n",
       "      <td>31.7167</td>\n",
       "      <td>64.09</td>\n",
       "      <td>79</td>\n",
       "      <td>100</td>\n",
       "      <td>1.99</td>\n",
       "      <td>1635209775</td>\n",
       "    </tr>\n",
       "  </tbody>\n",
       "</table>\n",
       "</div>"
      ],
      "text/plain": [
       "             City Country  Latitude  Temperature  Humidity  Cloudiness  \\\n",
       "0  severo-kurilsk      RU   50.6789        46.63        77          59   \n",
       "1          atuona      PF   -9.8000        78.10        72          25   \n",
       "2    quatre cocos      MU  -20.2078        73.51        78          36   \n",
       "3         cayenne      GF    4.9333        78.10        89          75   \n",
       "4       maneadero      MX   31.7167        64.09        79         100   \n",
       "\n",
       "   Windspeed        Date  \n",
       "0      14.63  1635209454  \n",
       "1      17.11  1635209734  \n",
       "2      14.81  1635209755  \n",
       "3       3.00  1635209765  \n",
       "4       1.99  1635209775  "
      ]
     },
     "execution_count": 15,
     "metadata": {},
     "output_type": "execute_result"
    }
   ],
   "source": [
    "# Extract relevant fields from the data frame\n",
    "Weather_DF = pd.read_csv(\"../weather/output_data/weather_data.csv\")\n",
    "City_Data = Weather_DF[[\"City\",\"Country\", \"Latitude\", \"Temperature\", \"Humidity\", \"Cloudiness\", \"Windspeed\", \"Date\"]]\n",
    "\n",
    "# Export the City_Data into a csv\n",
    "# Windows path\n",
    "# City_Data.to_csv('City_Data.csv', index = False)\n",
    "# windows path\n",
    "City_Data.to_csv(r'../weather/output_data/City_Data.csv', index = False)\n",
    "City_Data.head()"
   ]
  },
  {
   "cell_type": "code",
   "execution_count": 16,
   "metadata": {},
   "outputs": [
    {
     "data": {
      "text/plain": [
       "City           568\n",
       "Country        565\n",
       "Latitude       568\n",
       "Temperature    568\n",
       "Humidity       568\n",
       "Cloudiness     568\n",
       "Windspeed      568\n",
       "Date           568\n",
       "dtype: int64"
      ]
     },
     "execution_count": 16,
     "metadata": {},
     "output_type": "execute_result"
    }
   ],
   "source": [
    "# Convert the cities weather data into a Pandas DataFrame\n",
    "city_data_df= City_Data \n",
    "\n",
    "# Show Record Count\n",
    "city_data_df.count()"
   ]
  },
  {
   "cell_type": "code",
   "execution_count": 17,
   "metadata": {},
   "outputs": [
    {
     "data": {
      "text/html": [
       "<div>\n",
       "<style scoped>\n",
       "    .dataframe tbody tr th:only-of-type {\n",
       "        vertical-align: middle;\n",
       "    }\n",
       "\n",
       "    .dataframe tbody tr th {\n",
       "        vertical-align: top;\n",
       "    }\n",
       "\n",
       "    .dataframe thead th {\n",
       "        text-align: right;\n",
       "    }\n",
       "</style>\n",
       "<table border=\"1\" class=\"dataframe\">\n",
       "  <thead>\n",
       "    <tr style=\"text-align: right;\">\n",
       "      <th></th>\n",
       "      <th>City</th>\n",
       "      <th>Country</th>\n",
       "      <th>Latitude</th>\n",
       "      <th>Temperature</th>\n",
       "      <th>Humidity</th>\n",
       "      <th>Cloudiness</th>\n",
       "      <th>Windspeed</th>\n",
       "      <th>Date</th>\n",
       "    </tr>\n",
       "  </thead>\n",
       "  <tbody>\n",
       "    <tr>\n",
       "      <th>0</th>\n",
       "      <td>severo-kurilsk</td>\n",
       "      <td>RU</td>\n",
       "      <td>50.6789</td>\n",
       "      <td>46.63</td>\n",
       "      <td>77</td>\n",
       "      <td>59</td>\n",
       "      <td>14.63</td>\n",
       "      <td>1635209454</td>\n",
       "    </tr>\n",
       "    <tr>\n",
       "      <th>1</th>\n",
       "      <td>atuona</td>\n",
       "      <td>PF</td>\n",
       "      <td>-9.8000</td>\n",
       "      <td>78.10</td>\n",
       "      <td>72</td>\n",
       "      <td>25</td>\n",
       "      <td>17.11</td>\n",
       "      <td>1635209734</td>\n",
       "    </tr>\n",
       "    <tr>\n",
       "      <th>2</th>\n",
       "      <td>quatre cocos</td>\n",
       "      <td>MU</td>\n",
       "      <td>-20.2078</td>\n",
       "      <td>73.51</td>\n",
       "      <td>78</td>\n",
       "      <td>36</td>\n",
       "      <td>14.81</td>\n",
       "      <td>1635209755</td>\n",
       "    </tr>\n",
       "    <tr>\n",
       "      <th>3</th>\n",
       "      <td>cayenne</td>\n",
       "      <td>GF</td>\n",
       "      <td>4.9333</td>\n",
       "      <td>78.10</td>\n",
       "      <td>89</td>\n",
       "      <td>75</td>\n",
       "      <td>3.00</td>\n",
       "      <td>1635209765</td>\n",
       "    </tr>\n",
       "    <tr>\n",
       "      <th>4</th>\n",
       "      <td>maneadero</td>\n",
       "      <td>MX</td>\n",
       "      <td>31.7167</td>\n",
       "      <td>64.09</td>\n",
       "      <td>79</td>\n",
       "      <td>100</td>\n",
       "      <td>1.99</td>\n",
       "      <td>1635209775</td>\n",
       "    </tr>\n",
       "  </tbody>\n",
       "</table>\n",
       "</div>"
      ],
      "text/plain": [
       "             City Country  Latitude  Temperature  Humidity  Cloudiness  \\\n",
       "0  severo-kurilsk      RU   50.6789        46.63        77          59   \n",
       "1          atuona      PF   -9.8000        78.10        72          25   \n",
       "2    quatre cocos      MU  -20.2078        73.51        78          36   \n",
       "3         cayenne      GF    4.9333        78.10        89          75   \n",
       "4       maneadero      MX   31.7167        64.09        79         100   \n",
       "\n",
       "   Windspeed        Date  \n",
       "0      14.63  1635209454  \n",
       "1      17.11  1635209734  \n",
       "2      14.81  1635209755  \n",
       "3       3.00  1635209765  \n",
       "4       1.99  1635209775  "
      ]
     },
     "execution_count": 17,
     "metadata": {},
     "output_type": "execute_result"
    }
   ],
   "source": [
    "# Display sample data\n",
    "city_data_df.head()"
   ]
  },
  {
   "cell_type": "code",
   "execution_count": 18,
   "metadata": {},
   "outputs": [],
   "source": [
    "# Export the City_Data into a csv\n",
    "city_data_df.to_csv(\"output_data/cities.csv\", index_label=\"City_ID\")"
   ]
  },
  {
   "cell_type": "code",
   "execution_count": 19,
   "metadata": {},
   "outputs": [
    {
     "data": {
      "text/html": [
       "<div>\n",
       "<style scoped>\n",
       "    .dataframe tbody tr th:only-of-type {\n",
       "        vertical-align: middle;\n",
       "    }\n",
       "\n",
       "    .dataframe tbody tr th {\n",
       "        vertical-align: top;\n",
       "    }\n",
       "\n",
       "    .dataframe thead th {\n",
       "        text-align: right;\n",
       "    }\n",
       "</style>\n",
       "<table border=\"1\" class=\"dataframe\">\n",
       "  <thead>\n",
       "    <tr style=\"text-align: right;\">\n",
       "      <th></th>\n",
       "      <th>City</th>\n",
       "      <th>Country</th>\n",
       "      <th>Latitude</th>\n",
       "      <th>Temperature</th>\n",
       "      <th>Humidity</th>\n",
       "      <th>Cloudiness</th>\n",
       "      <th>Windspeed</th>\n",
       "      <th>Date</th>\n",
       "    </tr>\n",
       "    <tr>\n",
       "      <th>City_ID</th>\n",
       "      <th></th>\n",
       "      <th></th>\n",
       "      <th></th>\n",
       "      <th></th>\n",
       "      <th></th>\n",
       "      <th></th>\n",
       "      <th></th>\n",
       "      <th></th>\n",
       "    </tr>\n",
       "  </thead>\n",
       "  <tbody>\n",
       "    <tr>\n",
       "      <th>0</th>\n",
       "      <td>severo-kurilsk</td>\n",
       "      <td>RU</td>\n",
       "      <td>50.6789</td>\n",
       "      <td>46.63</td>\n",
       "      <td>77</td>\n",
       "      <td>59</td>\n",
       "      <td>14.63</td>\n",
       "      <td>1635209454</td>\n",
       "    </tr>\n",
       "    <tr>\n",
       "      <th>1</th>\n",
       "      <td>atuona</td>\n",
       "      <td>PF</td>\n",
       "      <td>-9.8000</td>\n",
       "      <td>78.10</td>\n",
       "      <td>72</td>\n",
       "      <td>25</td>\n",
       "      <td>17.11</td>\n",
       "      <td>1635209734</td>\n",
       "    </tr>\n",
       "    <tr>\n",
       "      <th>2</th>\n",
       "      <td>quatre cocos</td>\n",
       "      <td>MU</td>\n",
       "      <td>-20.2078</td>\n",
       "      <td>73.51</td>\n",
       "      <td>78</td>\n",
       "      <td>36</td>\n",
       "      <td>14.81</td>\n",
       "      <td>1635209755</td>\n",
       "    </tr>\n",
       "    <tr>\n",
       "      <th>3</th>\n",
       "      <td>cayenne</td>\n",
       "      <td>GF</td>\n",
       "      <td>4.9333</td>\n",
       "      <td>78.10</td>\n",
       "      <td>89</td>\n",
       "      <td>75</td>\n",
       "      <td>3.00</td>\n",
       "      <td>1635209765</td>\n",
       "    </tr>\n",
       "    <tr>\n",
       "      <th>4</th>\n",
       "      <td>maneadero</td>\n",
       "      <td>MX</td>\n",
       "      <td>31.7167</td>\n",
       "      <td>64.09</td>\n",
       "      <td>79</td>\n",
       "      <td>100</td>\n",
       "      <td>1.99</td>\n",
       "      <td>1635209775</td>\n",
       "    </tr>\n",
       "  </tbody>\n",
       "</table>\n",
       "</div>"
      ],
      "text/plain": [
       "                   City Country  Latitude  Temperature  Humidity  Cloudiness  \\\n",
       "City_ID                                                                        \n",
       "0        severo-kurilsk      RU   50.6789        46.63        77          59   \n",
       "1                atuona      PF   -9.8000        78.10        72          25   \n",
       "2          quatre cocos      MU  -20.2078        73.51        78          36   \n",
       "3               cayenne      GF    4.9333        78.10        89          75   \n",
       "4             maneadero      MX   31.7167        64.09        79         100   \n",
       "\n",
       "         Windspeed        Date  \n",
       "City_ID                         \n",
       "0            14.63  1635209454  \n",
       "1            17.11  1635209734  \n",
       "2            14.81  1635209755  \n",
       "3             3.00  1635209765  \n",
       "4             1.99  1635209775  "
      ]
     },
     "execution_count": 19,
     "metadata": {},
     "output_type": "execute_result"
    }
   ],
   "source": [
    "# Read saved data\n",
    "city_data_df = pd.read_csv(\"output_data/cities.csv\", index_col=\"City_ID\")\n",
    "\n",
    "# Display sample data\n",
    "city_data_df.head()"
   ]
  },
  {
   "attachments": {},
   "cell_type": "markdown",
   "metadata": {},
   "source": [
    "### Create the Scatter Plots Requested\n",
    "\n",
    "#### 1 Latitude Vs. Temperature"
   ]
  },
  {
   "cell_type": "code",
   "execution_count": 20,
   "metadata": {},
   "outputs": [
    {
     "data": {
      "image/png": "[encoded data removed]",
      "text/plain": [
       "<Figure size 432x288 with 1 Axes>"
      ]
     },
     "metadata": {
      "needs_background": "light"
     },
     "output_type": "display_data"
    }
   ],
   "source": [
    "#format the max date in the dataset as \"runDate\" for graph titles\n",
    "endRunDate = City_Data[\"Date\"].max()\n",
    "runDate = datetime.utcfromtimestamp(endRunDate).strftime('%Y-%m-%d')\n",
    "\n",
    "#set data to plot\n",
    "x = City_Data[\"Latitude\"]\n",
    "y = City_Data[\"Temperature\"]\n",
    "plt.scatter(x,y)\n",
    "#add gridlines\n",
    "plt.grid()\n",
    "#add titles and axis labels\n",
    "plt.title(f\"Latitude vs Temperature on {runDate}\")\n",
    "plt.xlabel(\"Latitude\")\n",
    "plt.ylabel(\"Temperature (F)\")\n",
    "#export as png\n",
    "plt.savefig(f'../weather/output_data/1.Latitude vs Temperature on {runDate}.png')\n",
    "#display plot!\n",
    "plt.show()"
   ]
  },
  {
   "attachments": {},
   "cell_type": "markdown",
   "metadata": {},
   "source": [
    "#### 2  Latitude Vs. Humidity"
   ]
  },
  {
   "cell_type": "code",
   "execution_count": 21,
   "metadata": {},
   "outputs": [
    {
     "data": {
      "image/png": "[encoded data removed]",
      "text/plain": [
       "<Figure size 432x288 with 1 Axes>"
      ]
     },
     "metadata": {
      "needs_background": "light"
     },
     "output_type": "display_data"
    }
   ],
   "source": [
    "#set data to plot; retain Latitude from previous plot as \"x\"\n",
    "h = City_Data[\"Humidity\"]\n",
    "plt.scatter(x,h)\n",
    "plt.title(f\"Latitude vs Humidity on {runDate}\")\n",
    "plt.grid()\n",
    "plt.xlabel(\"Latitude\")\n",
    "plt.ylabel(\"Humidity (%)\")\n",
    "plt.savefig(f'../weather/output_data/2.Latitude vs Humidity on {runDate}.png')\n",
    "plt.show()"
   ]
  },
  {
   "attachments": {},
   "cell_type": "markdown",
   "metadata": {},
   "source": [
    "#### 3 Latitude Vs. Cloudiness"
   ]
  },
  {
   "cell_type": "code",
   "execution_count": 22,
   "metadata": {},
   "outputs": [
    {
     "data": {
      "image/png": "[encoded data removed]",
      "text/plain": [
       "<Figure size 432x288 with 1 Axes>"
      ]
     },
     "metadata": {
      "needs_background": "light"
     },
     "output_type": "display_data"
    }
   ],
   "source": [
    "c = City_Data[\"Cloudiness\"]\n",
    "plt.scatter(x,c)\n",
    "plt.title(f\"Latitude vs Cloudiness on {runDate}\")\n",
    "plt.grid()\n",
    "plt.xlabel(\"Latitude\")\n",
    "plt.ylabel(\"Cloudiness (%)\")\n",
    "plt.savefig(f'../weather/output_data/3.Latitude vs Cloudiness on {runDate}.png')\n",
    "plt.show()"
   ]
  },
  {
   "attachments": {},
   "cell_type": "markdown",
   "metadata": {},
   "source": [
    "#### 4 Latitude vs. Wind Speed Plot"
   ]
  },
  {
   "cell_type": "code",
   "execution_count": 23,
   "metadata": {},
   "outputs": [
    {
     "data": {
      "image/png": "[encoded data removed]",
      "text/plain": [
       "<Figure size 432x288 with 1 Axes>"
      ]
     },
     "metadata": {
      "needs_background": "light"
     },
     "output_type": "display_data"
    }
   ],
   "source": [
    "ws = City_Data[\"Windspeed\"]\n",
    "plt.scatter(x,ws)\n",
    "plt.title(f\"Latitude vs Windspeed on {runDate}\")\n",
    "plt.grid()\n",
    "plt.xlabel(\"Latitude\")\n",
    "plt.ylabel(\"Windspeed (mph)\")\n",
    "plt.savefig(f'../weather/output_data/4.Latitude vs Windspeed on {runDate}.png')\n",
    "plt.show()"
   ]
  },
  {
   "cell_type": "markdown",
   "metadata": {},
   "source": [
    "---\n",
    "\n",
    "## Requirement 2: Compute Linear Regression for Each Relationship\n"
   ]
  },
  {
   "cell_type": "code",
   "execution_count": 24,
   "metadata": {},
   "outputs": [],
   "source": [
    "# Define a function to call is \"linearRegression\"\n",
    "#variables are\n",
    "# x_values: first set of data\n",
    "# y_values: second set of data\n",
    "# regEQplotX: where the linear regression equasion appears on the plot x line\n",
    "# regEQplotY: where the linear regression equasion appears on the plot y line\n",
    "# y_label: the y axis label of the plot (x label is always Latitude)\n",
    "\n",
    "def linearRegression(x_values,y_values,regEQplotX,regEQplotY,y_label):\n",
    "    (slope, intercept, rvalue, pvalue, stderr) = linregress(x_values, y_values)\n",
    "    regress_values = x_values * slope + intercept\n",
    "    line_eq = \"y = \" + str(round(slope,2)) + \"x + \" + str(round(intercept,2))\n",
    "    plt.scatter(x_values,y_values)\n",
    "    plt.plot(x_values,regress_values,\"r-\")\n",
    "    print(f'The r-square is {rvalue}')\n",
    "    print(line_eq)\n",
    "    plt.annotate(line_eq,(regEQplotX,regEQplotY),fontsize=15,color=\"red\")\n",
    "    plt.xlabel('Latitude')\n",
    "    plt.ylabel(f'{y_label}')\n",
    "    plt.grid()"
   ]
  },
  {
   "cell_type": "code",
   "execution_count": 25,
   "metadata": {},
   "outputs": [],
   "source": [
    "# Create a DataFrame with the Northern Hemisphere data (Latitude >= 0)\n",
    " # Create Northern and Southern Hemisphere DataFrames\n",
    "#pull loc above and below the equator; note any cities directly on the equator (i.e. latitude = 0) are excluded\n",
    "Northern_DF = Weather_DF.loc[Weather_DF[\"Latitude\"] > 0]\n",
    "Southern_DF = Weather_DF.loc[Weather_DF[\"Latitude\"] < 0]"
   ]
  },
  {
   "attachments": {},
   "cell_type": "markdown",
   "metadata": {},
   "source": [
    "### Temperature vs. Latitude Linear Regression Plot"
   ]
  },
  {
   "attachments": {},
   "cell_type": "markdown",
   "metadata": {},
   "source": [
    "##### Southern Hem"
   ]
  },
  {
   "cell_type": "code",
   "execution_count": 26,
   "metadata": {},
   "outputs": [
    {
     "name": "stdout",
     "output_type": "stream",
     "text": [
      "The r-square is 0.6730712334929924\n",
      "y = 0.54x + 81.47\n"
     ]
    },
    {
     "data": {
      "image/png": "[encoded data removed]",
      "text/plain": [
       "<Figure size 432x288 with 1 Axes>"
      ]
     },
     "metadata": {
      "needs_background": "light"
     },
     "output_type": "display_data"
    }
   ],
   "source": [
    "# Create a DataFrame with the Southern Hemisphere data (Latitude < 0)\n",
    "\n",
    "x_values = Southern_DF[\"Latitude\"]\n",
    "y_values = Southern_DF[\"Temperature\"]\n",
    "regEQplotX = -25\n",
    "regEQplotY = 40\n",
    "y_label = \"Temperature (F)\"\n",
    "plt.title(f'Southern Hemisphere Latitude vs Temp on {runDate}')\n",
    "linearRegression(x_values,y_values,regEQplotX,regEQplotY,y_label)\n",
    "plt.savefig(f'../weather/output_data/Southern1. Hemisphere Latitude vs Temp on {runDate}.png')\n",
    "plt.show()"
   ]
  },
  {
   "attachments": {},
   "cell_type": "markdown",
   "metadata": {},
   "source": [
    "##### Northern Hem"
   ]
  },
  {
   "cell_type": "code",
   "execution_count": 27,
   "metadata": {},
   "outputs": [
    {
     "name": "stdout",
     "output_type": "stream",
     "text": [
      "The r-square is -0.8839467167735444\n",
      "y = -0.96x + 91.06\n"
     ]
    },
    {
     "data": {
      "image/png": "[encoded data removed]",
      "text/plain": [
       "<Figure size 432x288 with 1 Axes>"
      ]
     },
     "metadata": {
      "needs_background": "light"
     },
     "output_type": "display_data"
    }
   ],
   "source": [
    "# Northern Hemisphere\n",
    "#set the data sets to compare\n",
    "x_values = Northern_DF[\"Latitude\"]\n",
    "y_values = Northern_DF[\"Temperature\"]\n",
    "#tweak where the equation appears on the plot\n",
    "regEQplotX = 0\n",
    "regEQplotY = 40\n",
    "#label the y axis\n",
    "y_label = \"Temperature (F)\"\n",
    "#give the title\n",
    "plt.title(f'Northern Hemisphere Latitude vs Temp on {runDate}')\n",
    "#run the function with all 5 variables\n",
    "linearRegression(x_values,y_values,regEQplotX,regEQplotY,y_label)\n",
    "#save as a png to the neighboring output_data folder\n",
    "plt.savefig(f'../weather/output_data/Northern1. Hemisphere Latitude vs Temp on {runDate}.png')\n",
    "plt.show()"
   ]
  },
  {
   "attachments": {},
   "cell_type": "markdown",
   "metadata": {},
   "source": [
    "###  Humidity vs. Latitude Linear Regression Plot"
   ]
  },
  {
   "attachments": {},
   "cell_type": "markdown",
   "metadata": {},
   "source": [
    "##### Southern Hem"
   ]
  },
  {
   "cell_type": "code",
   "execution_count": 28,
   "metadata": {},
   "outputs": [
    {
     "name": "stdout",
     "output_type": "stream",
     "text": [
      "The r-squared is: 0.022602502728401405\n"
     ]
    },
    {
     "data": {
      "image/png": "[encoded data removed]",
      "text/plain": [
       "<Figure size 432x288 with 1 Axes>"
      ]
     },
     "metadata": {
      "needs_background": "light"
     },
     "output_type": "display_data"
    }
   ],
   "source": [
    "(slope, intercept, rvalue, pvalue, stderr) = linregress(Southern_DF['Latitude'], Southern_DF['Humidity'])\n",
    "regress_values = (Southern_DF['Latitude'] * slope + intercept)\n",
    "plt.plot(Southern_DF['Latitude'], regress_values, 'r-')\n",
    "plt.scatter(Southern_DF['Latitude'], Southern_DF['Humidity'], marker='o', s=45)\n",
    "plt.title(f'Southern Hemisphere - Humidity (%) vs. Latitude Linear Regression')\n",
    "plt.ylabel('Humidity (%)')\n",
    "plt.xlabel('Latitude')\n",
    "line_eq = \"y = \" + str(round(slope,2)) + \"x +\" + str(round(intercept,2))\n",
    "plt.annotate(line_eq,(-55,40),fontsize=15,color=\"red\")\n",
    "plt.savefig(f'../weather/output_data/Southern2. Hemisphere Humidity(%) vs Latitude.png on {runDate}.png')\n",
    "print(f\"The r-squared is: {rvalue**2}\")\n",
    "plt.show()"
   ]
  },
  {
   "attachments": {},
   "cell_type": "markdown",
   "metadata": {},
   "source": [
    "#### Northern Hem"
   ]
  },
  {
   "cell_type": "code",
   "execution_count": 34,
   "metadata": {},
   "outputs": [
    {
     "name": "stdout",
     "output_type": "stream",
     "text": [
      "The r-squared is: 0.004898048154662483\n"
     ]
    },
    {
     "data": {
      "image/png": "[encoded data removed]",
      "text/plain": [
       "<Figure size 432x288 with 1 Axes>"
      ]
     },
     "metadata": {
      "needs_background": "light"
     },
     "output_type": "display_data"
    }
   ],
   "source": [
    "(slope, intercept, rvalue, pvalue, stderr) = linregress(Northern_DF['Latitude'], Northern_DF['Humidity'])\n",
    "regress_values = (Northern_DF['Latitude'] * slope + intercept)\n",
    "plt.plot(Northern_DF['Latitude'], regress_values, 'r-')\n",
    "plt.scatter(Northern_DF['Latitude'], Northern_DF['Humidity'], marker='o', s=45)\n",
    "plt.title(f'Northern Hemisphere - Humidity (%) vs. Latitude Linear Regression')\n",
    "plt.ylabel('Humidity (%)')\n",
    "plt.xlabel('Latitude')\n",
    "line_eq = \"y = \" + str(round(slope,2)) + \"x +\" + str(round(intercept,2))\n",
    "plt.annotate(line_eq,(-55,40),fontsize=15,color=\"red\")\n",
    "plt.savefig(f'../weather/output_data/Northern2. Hemisphere Humidity(%) vs Latitude.png on {runDate}.png')\n",
    "print(f\"The r-squared is: {rvalue**2}\")\n",
    "plt.show()"
   ]
  },
  {
   "attachments": {},
   "cell_type": "markdown",
   "metadata": {},
   "source": [
    "**Discussion about the linear relationship:** The r value for the Northern hemisphere (-0.8) shows us that there is a slight pattern between the latitude and the humidity with it veering towards a higher humidity increasing with the latitude. However, I would not consider this a strong pattern. The r value for the Southern hemisphere (0 .67) shows a stronger pattern than the Northern hemisphere with the humidity increasing as the latitude reaches zero, but still not a strong correlation."
   ]
  },
  {
   "cell_type": "markdown",
   "metadata": {},
   "source": [
    "### Cloudiness vs. Latitude Linear Regression Plot"
   ]
  },
  {
   "attachments": {},
   "cell_type": "markdown",
   "metadata": {},
   "source": [
    "#### Northern Hem"
   ]
  },
  {
   "cell_type": "code",
   "execution_count": 36,
   "metadata": {},
   "outputs": [
    {
     "name": "stdout",
     "output_type": "stream",
     "text": [
      "The r-square is 0.06427869961215028\n",
      "y = 0.13x + 53.29\n"
     ]
    },
    {
     "data": {
      "image/png": "[encoded data removed]",
      "text/plain": [
       "<Figure size 432x288 with 1 Axes>"
      ]
     },
     "metadata": {
      "needs_background": "light"
     },
     "output_type": "display_data"
    }
   ],
   "source": [
    "# Northern Hemisphere\n",
    "x_values = Northern_DF[\"Latitude\"]\n",
    "y_values = Northern_DF[\"Cloudiness\"]\n",
    "regEQplotX = 0\n",
    "regEQplotY = 25\n",
    "y_label = \"Cloudiness (%)\"\n",
    "plt.title(f'Northern Hemisphere Latitude vs Cloudiness on {runDate}')\n",
    "linearRegression(x_values,y_values,regEQplotX,regEQplotY,y_label)\n",
    "plt.savefig(f'../weather/output_data/Northern3. Hemisphere Latitude vs Cloudiness on {runDate}.png')\n",
    "plt.show()"
   ]
  },
  {
   "attachments": {},
   "cell_type": "markdown",
   "metadata": {},
   "source": [
    "#### Southern Hem"
   ]
  },
  {
   "cell_type": "code",
   "execution_count": 35,
   "metadata": {},
   "outputs": [
    {
     "name": "stdout",
     "output_type": "stream",
     "text": [
      "The r-square is 0.1583368280960344\n",
      "y = 0.43x + 69.66\n"
     ]
    },
    {
     "data": {
      "image/png": "[encoded data removed]",
      "text/plain": [
       "<Figure size 432x288 with 1 Axes>"
      ]
     },
     "metadata": {
      "needs_background": "light"
     },
     "output_type": "display_data"
    }
   ],
   "source": [
    "# Southern Hemisphere\n",
    "\n",
    "x_values = Southern_DF[\"Latitude\"]\n",
    "y_values = Southern_DF[\"Cloudiness\"]\n",
    "regEQplotX = -55\n",
    "regEQplotY = 60\n",
    "y_label = \"Cloudiness (%)\"\n",
    "plt.title(f'Southern Hemisphere Latitude vs Cloudiness on {runDate}')\n",
    "linearRegression(x_values,y_values,regEQplotX,regEQplotY,y_label)\n",
    "plt.savefig(f'../weather/output_data/Southern3. Hemisphere Latitude vs Cloudiness on {runDate}.png')\n",
    "plt.show()"
   ]
  },
  {
   "attachments": {},
   "cell_type": "markdown",
   "metadata": {},
   "source": [
    "**Discussion about the linear relationship:** The r value for the northern hemisphere (0.06) shows little pattern in the wind sppeed and the Southern one is not much better at (0.15) I do not think there is a correlation between the Cloudiness and Latitude."
   ]
  },
  {
   "cell_type": "markdown",
   "metadata": {},
   "source": [
    "### Wind Speed vs. Latitude Linear Regression Plot"
   ]
  },
  {
   "attachments": {},
   "cell_type": "markdown",
   "metadata": {},
   "source": [
    "#### Northern Hem"
   ]
  },
  {
   "cell_type": "code",
   "execution_count": 37,
   "metadata": {},
   "outputs": [
    {
     "name": "stdout",
     "output_type": "stream",
     "text": [
      "The r-square is 0.09574481285044133\n",
      "y = 0.02x + 6.1\n"
     ]
    },
    {
     "data": {
      "image/png": "[encoded data removed]",
      "text/plain": [
       "<Figure size 432x288 with 1 Axes>"
      ]
     },
     "metadata": {
      "needs_background": "light"
     },
     "output_type": "display_data"
    }
   ],
   "source": [
    "# Northern Hem\n",
    "x_values = Northern_DF[\"Latitude\"]\n",
    "y_values = Northern_DF[\"Windspeed\"]\n",
    "regEQplotX = 35\n",
    "regEQplotY = 25\n",
    "y_label = \"Wind Speed (MPH)\"\n",
    "plt.title(f'Northern Hemisphere Latitude vs Wind Speed on {runDate}')\n",
    "linearRegression(x_values,y_values,regEQplotX,regEQplotY,y_label)\n",
    "plt.savefig(f'../weather/output_data/Northern4. Hemisphere Latitude vs Wind Speed on {runDate}.png')\n",
    "plt.show()"
   ]
  },
  {
   "attachments": {},
   "cell_type": "markdown",
   "metadata": {},
   "source": [
    "#### Southern Hem"
   ]
  },
  {
   "cell_type": "code",
   "execution_count": 38,
   "metadata": {},
   "outputs": [
    {
     "name": "stdout",
     "output_type": "stream",
     "text": [
      "The r-square is -0.0947932259791076\n",
      "y = -0.03x + 6.69\n"
     ]
    },
    {
     "data": {
      "image/png": "[encoded data removed]",
      "text/plain": [
       "<Figure size 432x288 with 1 Axes>"
      ]
     },
     "metadata": {
      "needs_background": "light"
     },
     "output_type": "display_data"
    }
   ],
   "source": [
    "# Southern Hemisphere\n",
    "x_values = Southern_DF[\"Latitude\"]\n",
    "y_values = Southern_DF[\"Windspeed\"]\n",
    "regEQplotX = -50\n",
    "RegEQplotY = 25\n",
    "y_label = \"Wind Speed (MPH)\"\n",
    "plt.title(f'Southern Hemisphere Latitude vs Wind Speed on {runDate}')\n",
    "linearRegression(x_values,y_values,regEQplotX,regEQplotY,y_label)\n",
    "plt.savefig(f'../weather/output_data/Southern4. Hemisphere Latitude vs Wind Speed on {runDate}.png')\n",
    "plt.show()"
   ]
  },
  {
   "attachments": {},
   "cell_type": "markdown",
   "metadata": {},
   "source": [
    "**Discussion about the linear relationship:**  The r value for the northern hemisphere (0.09) shows little pattern in the wind speed and the Southern one is  (-0.09). In the Northern Hemisphere there is a weak positive linear relationship between latitude and wind speed. As the latitude increases away from the equator the wind spead increases slightly. In the southern hemisphere there is a weak negative linear relationship between latitude and wind speed. As the latitude increases towards the equator, the wind speed decreases."
   ]
  }
 ],
 "metadata": {
  "anaconda-cloud": {},
  "kernel_info": {
   "name": "python3"
  },
  "kernelspec": {
   "display_name": "C_Python_Data",
   "language": "python",
   "name": "python3"
  },
  "language_info": {
   "codemirror_mode": {
    "name": "ipython",
    "version": 3
   },
   "file_extension": ".py",
   "mimetype": "text/x-python",
   "name": "python",
   "nbconvert_exporter": "python",
   "pygments_lexer": "ipython3",
   "version": "3.7.7"
  },
  "latex_envs": {
   "LaTeX_envs_menu_present": true,
   "autoclose": false,
   "autocomplete": true,
   "bibliofile": "biblio.bib",
   "cite_by": "apalike",
   "current_citInitial": 1,
   "eqLabelWithNumbers": true,
   "eqNumInitial": 1,
   "hotkeys": {
    "equation": "Ctrl-E",
    "itemize": "Ctrl-I"
   },
   "labels_anchors": false,
   "latex_user_defs": false,
   "report_style_numbering": false,
   "user_envs_cfg": false
  },
  "nteract": {
   "version": "0.12.3"
  },
  "vscode": {
   "interpreter": {
    "hash": "577d22b05d3e8f9069dd78c9887c90d9b675bdba12c4b74c125dba039ded0dea"
   }
  }
 },
 "nbformat": 4,
 "nbformat_minor": 4
}
